{
  "cells": [
    {
      "cell_type": "markdown",
      "metadata": {
        "id": "view-in-github",
        "colab_type": "text"
      },
      "source": [
        "<a href=\"https://colab.research.google.com/github/stepkurniawan/stock-probabilistic-model/blob/main/2022_06_22_MCMC_simu.ipynb\" target=\"_parent\"><img src=\"https://colab.research.google.com/assets/colab-badge.svg\" alt=\"Open In Colab\"/></a>"
      ]
    },
    {
      "cell_type": "code",
      "execution_count": null,
      "metadata": {
        "id": "CRvgCHuEg3BR",
        "outputId": "63738835-5bf5-4f08-9319-39e143d03470",
        "colab": {
          "base_uri": "https://localhost:8080/"
        }
      },
      "outputs": [
        {
          "output_type": "stream",
          "name": "stdout",
          "text": [
            "drift matrix [[ 0.49574953  2.25368764  3.86062002]\n",
            " [-1.08263512 -0.47500955 -0.08019348]]\n"
          ]
        }
      ],
      "source": [
        "# -*- coding: utf-8 -*-\n",
        "\"\"\"\n",
        "Created on Thu Jun  2 12:56:02 2022\n",
        "\n",
        "@author: steph\n",
        "\n",
        "Our simulation consists of 2 stocks \n",
        "we simulate their drift, volatility, and transition matrix\n",
        "and plug them in max likelihood\n",
        "before testing using MCMCs\n",
        "\"\"\"\n",
        "\n",
        "import numpy as np\n",
        "import pandas as pd\n",
        "\n",
        "##############################################################################\n",
        "### VARIABLES ###\n",
        "# drift = normal distribution(mean, sigma)\n",
        "# dim(drift) = [stock] [state] \n",
        "# list of mean of stocks : [stock1, stock2]\n",
        "mean_stocks = [0,0]\n",
        "# list of sigma of stocks : [stock1, stock2]\n",
        "sigma_stocks = []\n",
        "sigma_states_elements = [0.5, 0.2, 0.5]\n",
        "\n",
        "# randomly generated 2 stocks\n",
        "num_stocks = 2\n",
        "\n",
        "# we have 3 states: \n",
        "# state 0: crisis, state 1: stable, state 2: bubble\n",
        "num_state = 3\n",
        "\n",
        "# how many time (index of time)\n",
        "N = 50\n",
        "\n",
        "#fix the random seed\n",
        "# np.random.seed(0)\n",
        "#############################################################################\n",
        "# b : drift for each stocks, for each state\n",
        "# ex: b[0,1] is drift for stock 0 and state 1\n",
        "b = np.random.randn(num_stocks, num_state)\n",
        "\n",
        "# b0 < b1 < b2\n",
        "for j in range(num_stocks):\n",
        "    for i in range(num_state):\n",
        "        if i == 0:\n",
        "            b[j,i] = np.random.randn(1)\n",
        "        else: \n",
        "            # make sure b of the next state is larger than the one before\n",
        "            # b0 (crisis period) < b1 (stable) < b2 (bubble periode)\n",
        "            b[j,i] = np.random.normal(b[j,i-1] +1, 0.5,1) \n",
        "\n",
        "\n",
        "print(\"drift matrix\",b)"
      ]
    },
    {
      "cell_type": "code",
      "execution_count": null,
      "metadata": {
        "id": "dNZ91DJPg3BU",
        "outputId": "ef777de7-11b9-4919-9e4c-1efa65006c0d",
        "colab": {
          "base_uri": "https://localhost:8080/"
        }
      },
      "outputs": [
        {
          "output_type": "execute_result",
          "data": {
            "text/plain": [
              "[array([[1. , 0.5],\n",
              "        [0.5, 1. ]], dtype=float32), array([[1. , 0.2],\n",
              "        [0.2, 1. ]], dtype=float32), array([[1. , 0.5],\n",
              "        [0.5, 1. ]], dtype=float32)]"
            ]
          },
          "metadata": {},
          "execution_count": 2
        }
      ],
      "source": [
        "# volatility\n",
        "sigma_stocks = [\n",
        "    np.full((num_stocks, num_stocks), sigma_states_elements[x], dtype=np.float32)\n",
        "    for x in range(num_state)\n",
        "]\n",
        "for x in sigma_stocks:\n",
        "    np.fill_diagonal(x, 1)\n",
        "\n",
        "sigma_stocks"
      ]
    },
    {
      "cell_type": "code",
      "execution_count": null,
      "metadata": {
        "id": "Of7QsfANg3BV",
        "outputId": "152e39ab-40c3-439c-d356-72749fe2d2f0",
        "colab": {
          "base_uri": "https://localhost:8080/"
        }
      },
      "outputs": [
        {
          "output_type": "execute_result",
          "data": {
            "text/plain": [
              "([[0.3, 0.4, 0.3], [0.1, 0.9, 0.0], [0.4, 0.3, 0.3]],\n",
              " [[0.2, 0.6, 0.2], [0.01, 0.9, 0.09], [0.4, 0.3, 0.3]])"
            ]
          },
          "metadata": {},
          "execution_count": 3
        }
      ],
      "source": [
        "# create 3 matrix of dxd matrix\n",
        "# for state 1 & 3 -> similar covariance matrix\n",
        "\n",
        "# transition matrixs \n",
        "# P [stock][from state][to state]\n",
        "P = [[0.3, 0.4, 0.3], [0.1, 0.9, 0.0], [0.4, 0.3, 0.3]], \\\n",
        "    [[0.2, 0.6, 0.2], [0.01, 0.9, 0.09], [0.4, 0.3, 0.3]]\n",
        "\n",
        "P"
      ]
    },
    {
      "cell_type": "code",
      "execution_count": null,
      "metadata": {
        "id": "95DlX-lLg3BW",
        "outputId": "ea079d7a-6399-4589-f96b-1c5eed5c13a7",
        "colab": {
          "base_uri": "https://localhost:8080/"
        }
      },
      "outputs": [
        {
          "output_type": "stream",
          "name": "stdout",
          "text": [
            "state matrix [[2 0 1 1 0 1 1 1 1 1 1 1 1 1 1 1 1 1 1 1 1 1 1 0 0 1 1 1 1 1 1 0 1 1 0 0\n",
            "  0 0 0 1 1 1 1 1 1 0 1 1 1 1]\n",
            " [2 0 1 1 1 1 2 2 2 1 1 1 1 1 1 1 1 2 2 0 1 1 1 1 1 1 1 1 1 1 1 1 1 1 1 1\n",
            "  1 1 1 1 1 1 1 1 2 1 1 1 1 1]]\n"
          ]
        }
      ],
      "source": [
        "# simulate y : state matrix\n",
        "# t = 0 : first state : random between state 1,2,3\n",
        "# y[i,t] : stock i, and t time\n",
        "# ex: y[0,1] : state at stock 0 when time is in index 1.  \n",
        "\n",
        "y = np.zeros((num_stocks, N))\n",
        "\n",
        "for i in range(num_stocks):\n",
        "    for t in range(N):\n",
        "        if t == 0:\n",
        "            y[i,t] = np.random.randint(0,3)\n",
        "        else: \n",
        "            prev_state = int(y[i, t-1])\n",
        "            y[i,t] = np.random.choice( np.arange(0,3), p=[P[i][prev_state][0], \\\n",
        "                                                          P[i][prev_state][1], \\\n",
        "                                                          P[i][prev_state][2]] )\n",
        "y = y.astype('int') # state is always integer\n",
        "print(\"state matrix\", y)"
      ]
    },
    {
      "cell_type": "code",
      "execution_count": null,
      "metadata": {
        "id": "k-dtBT5mg3BW",
        "outputId": "e0c3e2b0-2512-415e-a352-40074914f706",
        "colab": {
          "base_uri": "https://localhost:8080/"
        }
      },
      "outputs": [
        {
          "output_type": "execute_result",
          "data": {
            "text/plain": [
              "array([[-0.40213111, -0.10732894, -0.08980222,  0.74169346,  1.19198356,\n",
              "         0.89402974, -0.75396802, -0.26404059, -1.42219957,  0.13038717,\n",
              "        -0.85128952, -1.00970655, -0.12759106, -1.25791062,  0.15212076,\n",
              "        -1.18325653,  1.32573547, -1.71982518,  0.73218598, -1.5483139 ,\n",
              "         1.01372726, -0.21899541, -1.04881343,  0.72970982,  0.17840918,\n",
              "         0.28760359, -0.16039726, -1.15660443,  1.44733044,  0.82698816,\n",
              "        -0.62206343,  0.58578879, -0.04539203,  2.11228508, -0.9094792 ,\n",
              "         0.77113651, -1.18304834,  0.11673322, -0.03302903, -0.40931618,\n",
              "        -1.47528989,  0.36047537, -0.08795342, -1.66552235, -1.60555524,\n",
              "        -0.73275546,  0.36592997,  0.0353362 , -0.11507964,  0.61741499],\n",
              "       [ 0.65378073,  0.98004766, -2.36768845, -0.40866582,  0.51378666,\n",
              "        -0.49132414,  2.14273857,  0.20007113,  1.03569708, -2.15296979,\n",
              "         1.34979504, -0.2755222 , -2.94427995,  0.86420184, -0.43579463,\n",
              "         1.21767785,  0.44529785,  0.91467253, -0.09348786, -1.68229686,\n",
              "         1.06838433, -0.43442633, -1.40854691,  2.20175061, -1.48152791,\n",
              "        -1.55885937, -0.86979752, -0.41584371, -0.3761813 , -2.95684488,\n",
              "        -0.38760019,  0.740383  ,  1.21371352, -0.95248972,  0.01177905,\n",
              "        -0.81712566, -0.83449775,  1.62523078,  0.81723616,  0.55520122,\n",
              "         0.84753227, -1.34518748,  0.84260174, -0.01465924,  0.77013133,\n",
              "        -0.14594954,  0.74928595, -0.05512569,  1.76288304,  0.84289626]])"
            ]
          },
          "metadata": {},
          "execution_count": 5
        }
      ],
      "source": [
        "# DELTA of BROWNIAN MOTION is a normal distribution of mean 0 and std 1\n",
        "# 1 stock have 1 brownian motion\n",
        "# the length of 1 brownian motion is N\n",
        "# brownian motion have dim(num_stock, N)\n",
        "\n",
        "# brownian_motion_delta = np.zeros((num_stocks, N))\n",
        "\n",
        "# for j in range(num_stocks): \n",
        "#     brownian_motion_delta[j] = np.random.standard_normal(N)\n",
        "\n",
        "brownian_motion_delta = np.array([np.random.standard_normal(N) for _ in range(num_stocks)])\n",
        "brownian_motion_delta"
      ]
    },
    {
      "cell_type": "code",
      "execution_count": null,
      "metadata": {
        "id": "OZ_S-hVKg3BX",
        "outputId": "8c212c32-34c4-454a-842d-e765b4bb452a",
        "colab": {
          "base_uri": "https://localhost:8080/"
        }
      },
      "outputs": [
        {
          "output_type": "stream",
          "name": "stdout",
          "text": [
            "return matrix [[  3.25742335   3.59217947   5.73810444   8.88182423  11.16554911\n",
            "   14.49207244  15.84099844  17.77783737  18.32488552  20.73503776\n",
            "   21.96717796  23.00921774  25.10979611  25.853991    28.29022354\n",
            "   29.12400334  32.96857355  33.15847097  36.29078179  36.68649274\n",
            "   40.1566531   42.14754624  43.14265776  44.73297202  45.49633533\n",
            "   48.09514727  50.15635819  51.02212051  55.01260467  58.2586781\n",
            "   59.76588961  61.14032233  63.33953953  68.12796927  67.25950001\n",
            "   68.9119543   67.63313132  68.30398069  68.75018668  70.5126949\n",
            "   70.99603466  73.68229274  75.83043627  76.08549708  76.41251841\n",
            "   75.80913475  78.50193836  80.79802943  82.9136215   85.90820713]\n",
            " [  0.90047762   1.28791399  -2.02832171  -2.99373024  -2.8521958\n",
            "   -3.91679432  -0.78287993  -0.56296671   0.91038544  -2.14818787\n",
            "   -1.00344338  -1.80907957  -5.81722506  -5.25519241  -6.25315552\n",
            "   -5.26695164  -5.20760377  -3.91578846  -4.13621372  -7.74229413\n",
            "   -6.93524248  -7.93156362 -10.09682947  -7.92973829 -10.18258133\n",
            "  -12.52822213 -14.04698871 -15.0210107  -15.94743782 -19.97066123\n",
            "  -20.91079101 -20.49734096 -19.51589428 -21.1338915  -21.59476619\n",
            "  -23.05032653 -24.52673338 -23.05146598 -22.54579214 -22.35456023\n",
            "  -21.81253106 -23.90176559 -23.36565305 -23.85825368 -22.78325016\n",
            "  -23.43339916 -23.00926557 -23.55042595 -21.90997584 -21.37350987]]\n"
          ]
        }
      ],
      "source": [
        "# r : rate of Return of stock price from timme 0 to time t\n",
        "r = np.zeros((num_stocks, N))\n",
        "\n",
        "for i in range(num_stocks):\n",
        "    for n in range(1,N+1):\n",
        "        sum_b = 0\n",
        "        sum_sigma = 0\n",
        "        for t in range(n):\n",
        "            state_now = y[i,t]\n",
        "            sum_b = sum_b + b[i , state_now]\n",
        "            # Toby: what's the difference of d and i?\n",
        "            for d in range(num_stocks):\n",
        "                sum_sigma = sum_sigma + (sigma_stocks[state_now][i][d] * brownian_motion_delta[i, t])\n",
        "            r[i,t] = sum_b + sum_sigma\n",
        "\n",
        "print(\"return matrix\", r)\n"
      ]
    },
    {
      "cell_type": "code",
      "execution_count": null,
      "metadata": {
        "id": "7qN-97LLg3BX",
        "outputId": "9d3d6fb6-2075-434d-e32e-216881b8d2f0",
        "colab": {
          "base_uri": "https://localhost:8080/"
        }
      },
      "outputs": [
        {
          "output_type": "stream",
          "name": "stdout",
          "text": [
            "price matrix [[ 8.40000000e+01  3.01743076e+02  1.73143328e+03  1.53782861e+04\n",
            "   1.71707009e+05  2.48839041e+06  3.94185885e+07  7.00777256e+08\n",
            "   1.28416630e+10  2.66272367e+11  5.84925248e+12  1.34586724e+14\n",
            "   3.37944520e+15  8.73721457e+16  2.47177753e+18  7.19880571e+19\n",
            "   2.37334356e+21  7.86964434e+22  2.85595545e+24  1.04774989e+26\n",
            "   4.20741289e+27  1.77332129e+29  7.65057936e+30  3.42233153e+32\n",
            "   1.55703543e+34  7.48858482e+35  3.75600142e+37  1.91639157e+39\n",
            "   1.05425692e+41  6.14196145e+42  3.67079790e+44  2.24433767e+46\n",
            "   1.42155315e+48  9.68475290e+49  6.51391638e+51  4.48886708e+53\n",
            "   3.03596137e+55  2.07368246e+57  1.42566057e+59  1.00527168e+61\n",
            "   7.13703034e+62  5.25872759e+64  3.98771607e+66  3.03407360e+68\n",
            "   2.31841204e+70  1.75756811e+72  1.37972503e+74  1.11479064e+76\n",
            "   9.24313292e+77  7.94060977e+79]\n",
            " [ 5.30000000e+01  6.82594416e+01 -1.38452107e+02  4.14488261e+02\n",
            "  -1.18220168e+03  4.63044080e+03 -3.62507919e+03  2.04079891e+03\n",
            "   1.85791361e+03 -3.99114748e+03  4.00489050e+03 -7.24516560e+03\n",
            "   4.21467589e+04 -2.21489327e+05  1.38500721e+06 -7.29476599e+06\n",
            "   3.79882509e+07 -1.48753955e+08  6.15278148e+08 -4.76366439e+09\n",
            "   3.30371677e+10 -2.62036397e+11  2.64573682e+12 -2.09800005e+13\n",
            "   2.13630562e+14 -2.67641113e+15  3.75955169e+16 -5.64722662e+17\n",
            "   9.00587954e+18 -1.79853369e+20  3.76087622e+21 -7.70879622e+22\n",
            "   1.50444052e+24 -3.17946827e+25  6.86598740e+26 -1.58263251e+28\n",
            "   3.88168057e+29 -8.94784277e+30  2.01736203e+32 -4.50972410e+33\n",
            "   9.83684971e+34 -2.35118076e+36  5.49368739e+37 -1.31069787e+39\n",
            "   2.98619575e+40 -6.99767170e+41  1.61011287e+43 -3.79188438e+44\n",
            "   8.30800952e+45 -1.77571323e+47]]\n"
          ]
        }
      ],
      "source": [
        "# Price matrix S\n",
        "# dimension: number_of_stock x N times\n",
        "# ex: S[0,1] : stock 0 , time 1\n",
        "S = np.zeros((num_stocks, N))\n",
        "for i in range(num_stocks):\n",
        "    for n in range(N):\n",
        "        if n == 0:\n",
        "            S[i,n] = np.random.randint(50,100)\n",
        "        else:\n",
        "            S[i,n] = S[i, n-1]*r[i,n]\n",
        "print(\"price matrix\", S)"
      ]
    },
    {
      "cell_type": "code",
      "execution_count": null,
      "metadata": {
        "id": "P1zfpfaUg3BY",
        "outputId": "ca4ea628-2046-4b50-acea-3ff377918306",
        "colab": {
          "base_uri": "https://localhost:8080/",
          "height": 1000
        }
      },
      "outputs": [
        {
          "output_type": "stream",
          "name": "stderr",
          "text": [
            "/usr/local/lib/python3.7/dist-packages/ipykernel_launcher.py:28: FutureWarning: In v4.0, pm.sample will return an `arviz.InferenceData` object instead of a `MultiTrace` by default. You can pass return_inferencedata=True or return_inferencedata=False to be safe and silence this warning.\n",
            "Multiprocess sampling (4 chains in 4 jobs)\n",
            "CompoundStep\n",
            ">NUTS: [y, y0, sigma3, sigma2, sigma1, b3, b2, b1, σ, μ]\n",
            ">Metropolis: [P]\n"
          ]
        },
        {
          "output_type": "display_data",
          "data": {
            "text/plain": [
              "<IPython.core.display.HTML object>"
            ],
            "text/html": [
              "\n",
              "<style>\n",
              "    /* Turns off some styling */\n",
              "    progress {\n",
              "        /* gets rid of default border in Firefox and Opera. */\n",
              "        border: none;\n",
              "        /* Needs to be in here for Safari polyfill so background images work as expected. */\n",
              "        background-size: auto;\n",
              "    }\n",
              "    .progress-bar-interrupted, .progress-bar-interrupted::-webkit-progress-bar {\n",
              "        background: #F44336;\n",
              "    }\n",
              "</style>\n"
            ]
          },
          "metadata": {}
        },
        {
          "output_type": "display_data",
          "data": {
            "text/plain": [
              "<IPython.core.display.HTML object>"
            ],
            "text/html": [
              "\n",
              "    <div>\n",
              "      <progress value='290' class='' max='8000' style='width:300px; height:20px; vertical-align: middle;'></progress>\n",
              "      3.62% [290/8000 00:00<00:12 Sampling 4 chains, 0 divergences]\n",
              "    </div>\n",
              "    "
            ]
          },
          "metadata": {}
        },
        {
          "output_type": "stream",
          "name": "stderr",
          "text": [
            "/usr/local/lib/python3.7/dist-packages/pymc3/step_methods/hmc/quadpotential.py:224: RuntimeWarning: divide by zero encountered in true_divide\n",
            "  np.divide(1, self._stds, out=self._inv_stds)\n",
            "/usr/local/lib/python3.7/dist-packages/pymc3/step_methods/hmc/quadpotential.py:203: RuntimeWarning: invalid value encountered in multiply\n",
            "  return np.multiply(self._var, x, out=out)\n",
            "/usr/local/lib/python3.7/dist-packages/pymc3/step_methods/hmc/quadpotential.py:224: RuntimeWarning: divide by zero encountered in true_divide\n",
            "  np.divide(1, self._stds, out=self._inv_stds)\n",
            "/usr/local/lib/python3.7/dist-packages/pymc3/step_methods/hmc/quadpotential.py:203: RuntimeWarning: invalid value encountered in multiply\n",
            "  return np.multiply(self._var, x, out=out)\n",
            "/usr/local/lib/python3.7/dist-packages/pymc3/step_methods/hmc/quadpotential.py:224: RuntimeWarning: divide by zero encountered in true_divide\n",
            "  np.divide(1, self._stds, out=self._inv_stds)\n",
            "/usr/local/lib/python3.7/dist-packages/pymc3/step_methods/hmc/quadpotential.py:203: RuntimeWarning: invalid value encountered in multiply\n",
            "  return np.multiply(self._var, x, out=out)\n",
            "/usr/local/lib/python3.7/dist-packages/pymc3/step_methods/hmc/quadpotential.py:224: RuntimeWarning: divide by zero encountered in true_divide\n",
            "  np.divide(1, self._stds, out=self._inv_stds)\n",
            "/usr/local/lib/python3.7/dist-packages/pymc3/step_methods/hmc/quadpotential.py:203: RuntimeWarning: invalid value encountered in multiply\n",
            "  return np.multiply(self._var, x, out=out)\n"
          ]
        },
        {
          "output_type": "error",
          "ename": "RuntimeError",
          "evalue": "ignored",
          "traceback": [
            "\u001b[0;31m---------------------------------------------------------------------------\u001b[0m",
            "\u001b[0;31mRemoteTraceback\u001b[0m                           Traceback (most recent call last)",
            "\u001b[0;31mRemoteTraceback\u001b[0m: \n\"\"\"\nTraceback (most recent call last):\n  File \"/usr/local/lib/python3.7/dist-packages/pymc3/parallel_sampling.py\", line 137, in run\n    self._start_loop()\n  File \"/usr/local/lib/python3.7/dist-packages/pymc3/parallel_sampling.py\", line 191, in _start_loop\n    point, stats = self._compute_point()\n  File \"/usr/local/lib/python3.7/dist-packages/pymc3/parallel_sampling.py\", line 216, in _compute_point\n    point, stats = self._step_method.step(self._point)\n  File \"/usr/local/lib/python3.7/dist-packages/pymc3/step_methods/compound.py\", line 42, in step\n    point, state = method.step(point)\n  File \"/usr/local/lib/python3.7/dist-packages/pymc3/step_methods/arraystep.py\", line 276, in step\n    apoint, stats = self.astep(array)\n  File \"/usr/local/lib/python3.7/dist-packages/pymc3/step_methods/hmc/base_hmc.py\", line 147, in astep\n    self.potential.raise_ok(self._logp_dlogp_func._ordering.vmap)\n  File \"/usr/local/lib/python3.7/dist-packages/pymc3/step_methods/hmc/quadpotential.py\", line 272, in raise_ok\n    raise ValueError(\"\\n\".join(errmsg))\nValueError: Mass matrix contains zeros on the diagonal. \nThe derivative of RV `y_interval__`.ravel()[0] is zero.\nThe derivative of RV `y0_interval__`.ravel()[0] is zero.\nThe derivative of RV `sigma3`.ravel()[0] is zero.\nThe derivative of RV `sigma2`.ravel()[0] is zero.\nThe derivative of RV `sigma1`.ravel()[0] is zero.\nThe derivative of RV `b3`.ravel()[0] is zero.\nThe derivative of RV `b2`.ravel()[0] is zero.\nThe derivative of RV `b1`.ravel()[0] is zero.\nThe derivative of RV `σ_interval__`.ravel()[0] is zero.\nThe derivative of RV `μ`.ravel()[0] is zero.\n\"\"\"",
            "\nThe above exception was the direct cause of the following exception:\n",
            "\u001b[0;31mValueError\u001b[0m                                Traceback (most recent call last)",
            "\u001b[0;32m/usr/local/lib/python3.7/dist-packages/pymc3/parallel_sampling.py\u001b[0m in \u001b[0;36mrun\u001b[0;34m()\u001b[0m\n\u001b[1;32m    136\u001b[0m             \u001b[0mself\u001b[0m\u001b[0;34m.\u001b[0m\u001b[0m_point\u001b[0m \u001b[0;34m=\u001b[0m \u001b[0mself\u001b[0m\u001b[0;34m.\u001b[0m\u001b[0m_make_numpy_refs\u001b[0m\u001b[0;34m(\u001b[0m\u001b[0;34m)\u001b[0m\u001b[0;34m\u001b[0m\u001b[0;34m\u001b[0m\u001b[0m\n\u001b[0;32m--> 137\u001b[0;31m             \u001b[0mself\u001b[0m\u001b[0;34m.\u001b[0m\u001b[0m_start_loop\u001b[0m\u001b[0;34m(\u001b[0m\u001b[0;34m)\u001b[0m\u001b[0;34m\u001b[0m\u001b[0;34m\u001b[0m\u001b[0m\n\u001b[0m\u001b[1;32m    138\u001b[0m         \u001b[0;32mexcept\u001b[0m \u001b[0mKeyboardInterrupt\u001b[0m\u001b[0;34m:\u001b[0m\u001b[0;34m\u001b[0m\u001b[0;34m\u001b[0m\u001b[0m\n",
            "\u001b[0;32m/usr/local/lib/python3.7/dist-packages/pymc3/parallel_sampling.py\u001b[0m in \u001b[0;36m_start_loop\u001b[0;34m()\u001b[0m\n\u001b[1;32m    190\u001b[0m                 \u001b[0;32mtry\u001b[0m\u001b[0;34m:\u001b[0m\u001b[0;34m\u001b[0m\u001b[0;34m\u001b[0m\u001b[0m\n\u001b[0;32m--> 191\u001b[0;31m                     \u001b[0mpoint\u001b[0m\u001b[0;34m,\u001b[0m \u001b[0mstats\u001b[0m \u001b[0;34m=\u001b[0m \u001b[0mself\u001b[0m\u001b[0;34m.\u001b[0m\u001b[0m_compute_point\u001b[0m\u001b[0;34m(\u001b[0m\u001b[0;34m)\u001b[0m\u001b[0;34m\u001b[0m\u001b[0;34m\u001b[0m\u001b[0m\n\u001b[0m\u001b[1;32m    192\u001b[0m                 \u001b[0;32mexcept\u001b[0m \u001b[0mSamplingError\u001b[0m \u001b[0;32mas\u001b[0m \u001b[0me\u001b[0m\u001b[0;34m:\u001b[0m\u001b[0;34m\u001b[0m\u001b[0;34m\u001b[0m\u001b[0m\n",
            "\u001b[0;32m/usr/local/lib/python3.7/dist-packages/pymc3/parallel_sampling.py\u001b[0m in \u001b[0;36m_compute_point\u001b[0;34m()\u001b[0m\n\u001b[1;32m    215\u001b[0m         \u001b[0;32mif\u001b[0m \u001b[0mself\u001b[0m\u001b[0;34m.\u001b[0m\u001b[0m_step_method\u001b[0m\u001b[0;34m.\u001b[0m\u001b[0mgenerates_stats\u001b[0m\u001b[0;34m:\u001b[0m\u001b[0;34m\u001b[0m\u001b[0;34m\u001b[0m\u001b[0m\n\u001b[0;32m--> 216\u001b[0;31m             \u001b[0mpoint\u001b[0m\u001b[0;34m,\u001b[0m \u001b[0mstats\u001b[0m \u001b[0;34m=\u001b[0m \u001b[0mself\u001b[0m\u001b[0;34m.\u001b[0m\u001b[0m_step_method\u001b[0m\u001b[0;34m.\u001b[0m\u001b[0mstep\u001b[0m\u001b[0;34m(\u001b[0m\u001b[0mself\u001b[0m\u001b[0;34m.\u001b[0m\u001b[0m_point\u001b[0m\u001b[0;34m)\u001b[0m\u001b[0;34m\u001b[0m\u001b[0;34m\u001b[0m\u001b[0m\n\u001b[0m\u001b[1;32m    217\u001b[0m         \u001b[0;32melse\u001b[0m\u001b[0;34m:\u001b[0m\u001b[0;34m\u001b[0m\u001b[0;34m\u001b[0m\u001b[0m\n",
            "\u001b[0;32m/usr/local/lib/python3.7/dist-packages/pymc3/step_methods/compound.py\u001b[0m in \u001b[0;36mstep\u001b[0;34m()\u001b[0m\n\u001b[1;32m     41\u001b[0m                 \u001b[0;32mif\u001b[0m \u001b[0mmethod\u001b[0m\u001b[0;34m.\u001b[0m\u001b[0mgenerates_stats\u001b[0m\u001b[0;34m:\u001b[0m\u001b[0;34m\u001b[0m\u001b[0;34m\u001b[0m\u001b[0m\n\u001b[0;32m---> 42\u001b[0;31m                     \u001b[0mpoint\u001b[0m\u001b[0;34m,\u001b[0m \u001b[0mstate\u001b[0m \u001b[0;34m=\u001b[0m \u001b[0mmethod\u001b[0m\u001b[0;34m.\u001b[0m\u001b[0mstep\u001b[0m\u001b[0;34m(\u001b[0m\u001b[0mpoint\u001b[0m\u001b[0;34m)\u001b[0m\u001b[0;34m\u001b[0m\u001b[0;34m\u001b[0m\u001b[0m\n\u001b[0m\u001b[1;32m     43\u001b[0m                     \u001b[0mstates\u001b[0m\u001b[0;34m.\u001b[0m\u001b[0mextend\u001b[0m\u001b[0;34m(\u001b[0m\u001b[0mstate\u001b[0m\u001b[0;34m)\u001b[0m\u001b[0;34m\u001b[0m\u001b[0;34m\u001b[0m\u001b[0m\n",
            "\u001b[0;32m/usr/local/lib/python3.7/dist-packages/pymc3/step_methods/arraystep.py\u001b[0m in \u001b[0;36mstep\u001b[0;34m()\u001b[0m\n\u001b[1;32m    275\u001b[0m         \u001b[0;32mif\u001b[0m \u001b[0mself\u001b[0m\u001b[0;34m.\u001b[0m\u001b[0mgenerates_stats\u001b[0m\u001b[0;34m:\u001b[0m\u001b[0;34m\u001b[0m\u001b[0;34m\u001b[0m\u001b[0m\n\u001b[0;32m--> 276\u001b[0;31m             \u001b[0mapoint\u001b[0m\u001b[0;34m,\u001b[0m \u001b[0mstats\u001b[0m \u001b[0;34m=\u001b[0m \u001b[0mself\u001b[0m\u001b[0;34m.\u001b[0m\u001b[0mastep\u001b[0m\u001b[0;34m(\u001b[0m\u001b[0marray\u001b[0m\u001b[0;34m)\u001b[0m\u001b[0;34m\u001b[0m\u001b[0;34m\u001b[0m\u001b[0m\n\u001b[0m\u001b[1;32m    277\u001b[0m             \u001b[0mpoint\u001b[0m \u001b[0;34m=\u001b[0m \u001b[0mself\u001b[0m\u001b[0;34m.\u001b[0m\u001b[0m_logp_dlogp_func\u001b[0m\u001b[0;34m.\u001b[0m\u001b[0marray_to_full_dict\u001b[0m\u001b[0;34m(\u001b[0m\u001b[0mapoint\u001b[0m\u001b[0;34m)\u001b[0m\u001b[0;34m\u001b[0m\u001b[0;34m\u001b[0m\u001b[0m\n",
            "\u001b[0;32m/usr/local/lib/python3.7/dist-packages/pymc3/step_methods/hmc/base_hmc.py\u001b[0m in \u001b[0;36mastep\u001b[0;34m()\u001b[0m\n\u001b[1;32m    146\u001b[0m             ]\n\u001b[0;32m--> 147\u001b[0;31m             \u001b[0mself\u001b[0m\u001b[0;34m.\u001b[0m\u001b[0mpotential\u001b[0m\u001b[0;34m.\u001b[0m\u001b[0mraise_ok\u001b[0m\u001b[0;34m(\u001b[0m\u001b[0mself\u001b[0m\u001b[0;34m.\u001b[0m\u001b[0m_logp_dlogp_func\u001b[0m\u001b[0;34m.\u001b[0m\u001b[0m_ordering\u001b[0m\u001b[0;34m.\u001b[0m\u001b[0mvmap\u001b[0m\u001b[0;34m)\u001b[0m\u001b[0;34m\u001b[0m\u001b[0;34m\u001b[0m\u001b[0m\n\u001b[0m\u001b[1;32m    148\u001b[0m             message_energy = (\n",
            "\u001b[0;32m/usr/local/lib/python3.7/dist-packages/pymc3/step_methods/hmc/quadpotential.py\u001b[0m in \u001b[0;36mraise_ok\u001b[0;34m()\u001b[0m\n\u001b[1;32m    271\u001b[0m                 )\n\u001b[0;32m--> 272\u001b[0;31m             \u001b[0;32mraise\u001b[0m \u001b[0mValueError\u001b[0m\u001b[0;34m(\u001b[0m\u001b[0;34m\"\\n\"\u001b[0m\u001b[0;34m.\u001b[0m\u001b[0mjoin\u001b[0m\u001b[0;34m(\u001b[0m\u001b[0merrmsg\u001b[0m\u001b[0;34m)\u001b[0m\u001b[0;34m)\u001b[0m\u001b[0;34m\u001b[0m\u001b[0;34m\u001b[0m\u001b[0m\n\u001b[0m\u001b[1;32m    273\u001b[0m \u001b[0;34m\u001b[0m\u001b[0m\n",
            "\u001b[0;31mValueError\u001b[0m: Mass matrix contains zeros on the diagonal. \nThe derivative of RV `y_interval__`.ravel()[0] is zero.\nThe derivative of RV `y0_interval__`.ravel()[0] is zero.\nThe derivative of RV `sigma3`.ravel()[0] is zero.\nThe derivative of RV `sigma2`.ravel()[0] is zero.\nThe derivative of RV `sigma1`.ravel()[0] is zero.\nThe derivative of RV `b3`.ravel()[0] is zero.\nThe derivative of RV `b2`.ravel()[0] is zero.\nThe derivative of RV `b1`.ravel()[0] is zero.\nThe derivative of RV `σ_interval__`.ravel()[0] is zero.\nThe derivative of RV `μ`.ravel()[0] is zero.",
            "\nThe above exception was the direct cause of the following exception:\n",
            "\u001b[0;31mRuntimeError\u001b[0m                              Traceback (most recent call last)",
            "\u001b[0;32m<ipython-input-8-009a4752bb68>\u001b[0m in \u001b[0;36m<module>\u001b[0;34m()\u001b[0m\n\u001b[1;32m     26\u001b[0m \u001b[0;34m\u001b[0m\u001b[0m\n\u001b[1;32m     27\u001b[0m     \u001b[0mdist\u001b[0m \u001b[0;34m=\u001b[0m \u001b[0mNormal\u001b[0m\u001b[0;34m(\u001b[0m\u001b[0;34m'dist'\u001b[0m\u001b[0;34m,\u001b[0m \u001b[0mmu\u001b[0m\u001b[0;34m=\u001b[0m\u001b[0mμ\u001b[0m\u001b[0;34m,\u001b[0m \u001b[0msd\u001b[0m\u001b[0;34m=\u001b[0m\u001b[0mσ\u001b[0m\u001b[0;34m,\u001b[0m \u001b[0mobserved\u001b[0m\u001b[0;34m=\u001b[0m\u001b[0mS\u001b[0m\u001b[0;34m)\u001b[0m\u001b[0;34m\u001b[0m\u001b[0;34m\u001b[0m\u001b[0m\n\u001b[0;32m---> 28\u001b[0;31m     \u001b[0msamples\u001b[0m \u001b[0;34m=\u001b[0m \u001b[0msample\u001b[0m\u001b[0;34m(\u001b[0m\u001b[0;36m1000\u001b[0m\u001b[0;34m,\u001b[0m \u001b[0mtune\u001b[0m\u001b[0;34m=\u001b[0m\u001b[0;36m1000\u001b[0m\u001b[0;34m,\u001b[0m \u001b[0mcores\u001b[0m\u001b[0;34m=\u001b[0m\u001b[0;36m4\u001b[0m\u001b[0;34m,\u001b[0m \u001b[0mrandom_seed\u001b[0m\u001b[0;34m=\u001b[0m\u001b[0;36m42\u001b[0m\u001b[0;34m)\u001b[0m\u001b[0;34m\u001b[0m\u001b[0;34m\u001b[0m\u001b[0m\n\u001b[0m\u001b[1;32m     29\u001b[0m \u001b[0;34m\u001b[0m\u001b[0m\n",
            "\u001b[0;32m/usr/local/lib/python3.7/dist-packages/pymc3/sampling.py\u001b[0m in \u001b[0;36msample\u001b[0;34m(draws, step, init, n_init, start, trace, chain_idx, chains, cores, tune, progressbar, model, random_seed, discard_tuned_samples, compute_convergence_checks, callback, jitter_max_retries, return_inferencedata, idata_kwargs, mp_ctx, pickle_backend, **kwargs)\u001b[0m\n\u001b[1;32m    557\u001b[0m         \u001b[0m_print_step_hierarchy\u001b[0m\u001b[0;34m(\u001b[0m\u001b[0mstep\u001b[0m\u001b[0;34m)\u001b[0m\u001b[0;34m\u001b[0m\u001b[0;34m\u001b[0m\u001b[0m\n\u001b[1;32m    558\u001b[0m         \u001b[0;32mtry\u001b[0m\u001b[0;34m:\u001b[0m\u001b[0;34m\u001b[0m\u001b[0;34m\u001b[0m\u001b[0m\n\u001b[0;32m--> 559\u001b[0;31m             \u001b[0mtrace\u001b[0m \u001b[0;34m=\u001b[0m \u001b[0m_mp_sample\u001b[0m\u001b[0;34m(\u001b[0m\u001b[0;34m**\u001b[0m\u001b[0msample_args\u001b[0m\u001b[0;34m,\u001b[0m \u001b[0;34m**\u001b[0m\u001b[0mparallel_args\u001b[0m\u001b[0;34m)\u001b[0m\u001b[0;34m\u001b[0m\u001b[0;34m\u001b[0m\u001b[0m\n\u001b[0m\u001b[1;32m    560\u001b[0m         \u001b[0;32mexcept\u001b[0m \u001b[0mpickle\u001b[0m\u001b[0;34m.\u001b[0m\u001b[0mPickleError\u001b[0m\u001b[0;34m:\u001b[0m\u001b[0;34m\u001b[0m\u001b[0;34m\u001b[0m\u001b[0m\n\u001b[1;32m    561\u001b[0m             \u001b[0m_log\u001b[0m\u001b[0;34m.\u001b[0m\u001b[0mwarning\u001b[0m\u001b[0;34m(\u001b[0m\u001b[0;34m\"Could not pickle model, sampling singlethreaded.\"\u001b[0m\u001b[0;34m)\u001b[0m\u001b[0;34m\u001b[0m\u001b[0;34m\u001b[0m\u001b[0m\n",
            "\u001b[0;32m/usr/local/lib/python3.7/dist-packages/pymc3/sampling.py\u001b[0m in \u001b[0;36m_mp_sample\u001b[0;34m(draws, tune, step, chains, cores, chain, random_seed, start, progressbar, trace, model, callback, discard_tuned_samples, mp_ctx, pickle_backend, **kwargs)\u001b[0m\n\u001b[1;32m   1475\u001b[0m         \u001b[0;32mtry\u001b[0m\u001b[0;34m:\u001b[0m\u001b[0;34m\u001b[0m\u001b[0;34m\u001b[0m\u001b[0m\n\u001b[1;32m   1476\u001b[0m             \u001b[0;32mwith\u001b[0m \u001b[0msampler\u001b[0m\u001b[0;34m:\u001b[0m\u001b[0;34m\u001b[0m\u001b[0;34m\u001b[0m\u001b[0m\n\u001b[0;32m-> 1477\u001b[0;31m                 \u001b[0;32mfor\u001b[0m \u001b[0mdraw\u001b[0m \u001b[0;32min\u001b[0m \u001b[0msampler\u001b[0m\u001b[0;34m:\u001b[0m\u001b[0;34m\u001b[0m\u001b[0;34m\u001b[0m\u001b[0m\n\u001b[0m\u001b[1;32m   1478\u001b[0m                     \u001b[0mtrace\u001b[0m \u001b[0;34m=\u001b[0m \u001b[0mtraces\u001b[0m\u001b[0;34m[\u001b[0m\u001b[0mdraw\u001b[0m\u001b[0;34m.\u001b[0m\u001b[0mchain\u001b[0m \u001b[0;34m-\u001b[0m \u001b[0mchain\u001b[0m\u001b[0;34m]\u001b[0m\u001b[0;34m\u001b[0m\u001b[0;34m\u001b[0m\u001b[0m\n\u001b[1;32m   1479\u001b[0m                     \u001b[0;32mif\u001b[0m \u001b[0mtrace\u001b[0m\u001b[0;34m.\u001b[0m\u001b[0msupports_sampler_stats\u001b[0m \u001b[0;32mand\u001b[0m \u001b[0mdraw\u001b[0m\u001b[0;34m.\u001b[0m\u001b[0mstats\u001b[0m \u001b[0;32mis\u001b[0m \u001b[0;32mnot\u001b[0m \u001b[0;32mNone\u001b[0m\u001b[0;34m:\u001b[0m\u001b[0;34m\u001b[0m\u001b[0;34m\u001b[0m\u001b[0m\n",
            "\u001b[0;32m/usr/local/lib/python3.7/dist-packages/pymc3/parallel_sampling.py\u001b[0m in \u001b[0;36m__iter__\u001b[0;34m(self)\u001b[0m\n\u001b[1;32m    477\u001b[0m \u001b[0;34m\u001b[0m\u001b[0m\n\u001b[1;32m    478\u001b[0m         \u001b[0;32mwhile\u001b[0m \u001b[0mself\u001b[0m\u001b[0;34m.\u001b[0m\u001b[0m_active\u001b[0m\u001b[0;34m:\u001b[0m\u001b[0;34m\u001b[0m\u001b[0;34m\u001b[0m\u001b[0m\n\u001b[0;32m--> 479\u001b[0;31m             \u001b[0mdraw\u001b[0m \u001b[0;34m=\u001b[0m \u001b[0mProcessAdapter\u001b[0m\u001b[0;34m.\u001b[0m\u001b[0mrecv_draw\u001b[0m\u001b[0;34m(\u001b[0m\u001b[0mself\u001b[0m\u001b[0;34m.\u001b[0m\u001b[0m_active\u001b[0m\u001b[0;34m)\u001b[0m\u001b[0;34m\u001b[0m\u001b[0;34m\u001b[0m\u001b[0m\n\u001b[0m\u001b[1;32m    480\u001b[0m             \u001b[0mproc\u001b[0m\u001b[0;34m,\u001b[0m \u001b[0mis_last\u001b[0m\u001b[0;34m,\u001b[0m \u001b[0mdraw\u001b[0m\u001b[0;34m,\u001b[0m \u001b[0mtuning\u001b[0m\u001b[0;34m,\u001b[0m \u001b[0mstats\u001b[0m\u001b[0;34m,\u001b[0m \u001b[0mwarns\u001b[0m \u001b[0;34m=\u001b[0m \u001b[0mdraw\u001b[0m\u001b[0;34m\u001b[0m\u001b[0;34m\u001b[0m\u001b[0m\n\u001b[1;32m    481\u001b[0m             \u001b[0mself\u001b[0m\u001b[0;34m.\u001b[0m\u001b[0m_total_draws\u001b[0m \u001b[0;34m+=\u001b[0m \u001b[0;36m1\u001b[0m\u001b[0;34m\u001b[0m\u001b[0;34m\u001b[0m\u001b[0m\n",
            "\u001b[0;32m/usr/local/lib/python3.7/dist-packages/pymc3/parallel_sampling.py\u001b[0m in \u001b[0;36mrecv_draw\u001b[0;34m(processes, timeout)\u001b[0m\n\u001b[1;32m    357\u001b[0m             \u001b[0;32melse\u001b[0m\u001b[0;34m:\u001b[0m\u001b[0;34m\u001b[0m\u001b[0;34m\u001b[0m\u001b[0m\n\u001b[1;32m    358\u001b[0m                 \u001b[0merror\u001b[0m \u001b[0;34m=\u001b[0m \u001b[0mRuntimeError\u001b[0m\u001b[0;34m(\u001b[0m\u001b[0;34m\"Chain %s failed.\"\u001b[0m \u001b[0;34m%\u001b[0m \u001b[0mproc\u001b[0m\u001b[0;34m.\u001b[0m\u001b[0mchain\u001b[0m\u001b[0;34m)\u001b[0m\u001b[0;34m\u001b[0m\u001b[0;34m\u001b[0m\u001b[0m\n\u001b[0;32m--> 359\u001b[0;31m             \u001b[0;32mraise\u001b[0m \u001b[0merror\u001b[0m \u001b[0;32mfrom\u001b[0m \u001b[0mold_error\u001b[0m\u001b[0;34m\u001b[0m\u001b[0;34m\u001b[0m\u001b[0m\n\u001b[0m\u001b[1;32m    360\u001b[0m         \u001b[0;32melif\u001b[0m \u001b[0mmsg\u001b[0m\u001b[0;34m[\u001b[0m\u001b[0;36m0\u001b[0m\u001b[0;34m]\u001b[0m \u001b[0;34m==\u001b[0m \u001b[0;34m\"writing_done\"\u001b[0m\u001b[0;34m:\u001b[0m\u001b[0;34m\u001b[0m\u001b[0;34m\u001b[0m\u001b[0m\n\u001b[1;32m    361\u001b[0m             \u001b[0mproc\u001b[0m\u001b[0;34m.\u001b[0m\u001b[0m_readable\u001b[0m \u001b[0;34m=\u001b[0m \u001b[0;32mTrue\u001b[0m\u001b[0;34m\u001b[0m\u001b[0;34m\u001b[0m\u001b[0m\n",
            "\u001b[0;31mRuntimeError\u001b[0m: Chain 1 failed."
          ]
        }
      ],
      "source": [
        "# MCMC PyMC\n",
        "\n",
        "from pymc3 import Model, Normal, Uniform, Exponential, LKJCholeskyCov, Dirichlet, DirichletMultinomial\n",
        "from pymc3 import sample\n",
        "\n",
        "\n",
        "with Model() as test_model:\n",
        "    \n",
        "    μ = Normal('μ', mu=0, sd=10)\n",
        "    σ = Uniform('σ', 0, 10)\n",
        "    b1 = Normal('b1', mu = 0, sd=10)\n",
        "    b2 = Normal('b2', mu = 0, sd=10)\n",
        "    b3 = Normal('b3', mu = 0, sd=10)\n",
        "    sigma1 = Normal('sigma1', mu = 0, sd=10)\n",
        "    sigma2 = Normal('sigma2', mu = 0, sd=10)\n",
        "    sigma3 = Normal('sigma3', mu = 0, sd=10)\n",
        "    sd_dist = Exponential.dist(1.0)\n",
        "    # chol, corr, sigmas = LKJCholeskyCov(\n",
        "    #     'covariance_mat', eta=4, n=10, sd_dist=sd_dist, compute_corr=False\n",
        "    # )\n",
        "    P = DirichletMultinomial('P', n=0.33, a=2, shape=(3,3) )\n",
        "    y0 = Uniform('y0', 1,3)\n",
        "    y = Uniform('y', 1,3)\n",
        "    \n",
        "with test_model:\n",
        "    \n",
        "    dist = Normal('dist', mu=μ, sd=σ, observed=S)\n",
        "    samples = sample(1000, tune=1000, cores=4, random_seed=42)\n",
        "    "
      ]
    }
  ],
  "metadata": {
    "interpreter": {
      "hash": "b81aaede8d3d25846dbb6a5098912c5f7929bc506368ab737df9bda4164e6be2"
    },
    "kernelspec": {
      "display_name": "Python 3.9.7 ('base')",
      "language": "python",
      "name": "python3"
    },
    "language_info": {
      "codemirror_mode": {
        "name": "ipython",
        "version": 3
      },
      "file_extension": ".py",
      "mimetype": "text/x-python",
      "name": "python",
      "nbconvert_exporter": "python",
      "pygments_lexer": "ipython3",
      "version": "3.9.7"
    },
    "orig_nbformat": 4,
    "colab": {
      "name": "2022.06.22 MCMC simu.ipynb",
      "provenance": [],
      "include_colab_link": true
    }
  },
  "nbformat": 4,
  "nbformat_minor": 0
}