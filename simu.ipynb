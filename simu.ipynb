{
 "cells": [
  {
   "cell_type": "code",
   "execution_count": 1,
   "metadata": {},
   "outputs": [
    {
     "name": "stdout",
     "output_type": "stream",
     "text": [
      "drift matrix [[ 0.39504103  1.83790444  2.35347879]\n",
      " [-0.76575789  0.3616073   1.78131702]]\n"
     ]
    }
   ],
   "source": [
    "# -*- coding: utf-8 -*-\n",
    "\"\"\"\n",
    "Created on Thu Jun  2 12:56:02 2022\n",
    "\n",
    "@author: steph\n",
    "\n",
    "Our simulation consists of 2 stocks \n",
    "we simulate their drift, volatility, and transition matrix\n",
    "and plug them in max likelihood\n",
    "before testing using MCMCs\n",
    "\"\"\"\n",
    "\n",
    "import numpy as np\n",
    "import pandas as pd\n",
    "\n",
    "# drift = normal distribution(mean, sigma)\n",
    "# dim(drift) = [stock] [state] \n",
    "# list of mean of stocks : [stock1, stock2]\n",
    "mean_stocks = [0,0]\n",
    "# list of sigma of stocks : [stock1, stock2]\n",
    "sigma_stock = [0,0]\n",
    "\n",
    "# randomly generated 2 stocks\n",
    "num_stocks = 2\n",
    "\n",
    "# we have 3 states: \n",
    "# state 0: crisis, state 1: stable, state 2: bubble\n",
    "num_state = 3\n",
    "\n",
    "# how many time\n",
    "N = 5\n",
    "\n",
    "#fix the random seed\n",
    "# np.random.seed(0)\n",
    "\n",
    "# b : drift for each stocks, for each state\n",
    "# ex: b[0,1] is drift for stock 0 and state 1\n",
    "b = np.random.randn(num_stocks, num_state)\n",
    "\n",
    "# b0 < b1 < b2\n",
    "for i in range(num_stocks):\n",
    "    for j in range(num_state):\n",
    "        if j == 0:\n",
    "            b[i,j] = np.random.randn(1)\n",
    "        else: \n",
    "            # make sure b of the next state is larger than the one before\n",
    "            # b0 (crisis period) < b1 (stable) < b2 (bubble periode)\n",
    "            b[i,j] = np.random.normal(b[i,j-1] +1, 0.5,1) \n",
    "\n",
    "\n",
    "print(\"drift matrix\",b)"
   ]
  },
  {
   "cell_type": "code",
   "execution_count": 4,
   "metadata": {},
   "outputs": [
    {
     "data": {
      "text/plain": [
       "[array([[1. , 0.5],\n",
       "        [0.5, 1. ]], dtype=float32),\n",
       " array([[1. , 0.2],\n",
       "        [0.2, 1. ]], dtype=float32),\n",
       " array([[1. , 0.5],\n",
       "        [0.5, 1. ]], dtype=float32)]"
      ]
     },
     "execution_count": 4,
     "metadata": {},
     "output_type": "execute_result"
    }
   ],
   "source": [
    "# volatility\n",
    "sigma = [np.float32([[1, 0.5 if x != 1 else 0.2], [0.5 if x != 1 else 0.2, 1]]) for x in range(num_state)]\n",
    "sigma\n",
    "# create 3 matrix of dxd matrix\n",
    "# for state 1 & 3 -> similar covariance matrix"
   ]
  },
  {
   "cell_type": "code",
   "execution_count": 5,
   "metadata": {},
   "outputs": [],
   "source": [
    "# transition matrixs \n",
    "# P [stock][from state][to state]\n",
    "P = [[0.3, 0.4, 0.3], [0.1, 0.9, 0.0], [0.4, 0.3, 0.3]], \\\n",
    "    [[0.2, 0.6, 0.2], [0.01, 0.9, 0.09], [0.4, 0.3, 0.3]]"
   ]
  },
  {
   "cell_type": "code",
   "execution_count": 6,
   "metadata": {},
   "outputs": [
    {
     "name": "stdout",
     "output_type": "stream",
     "text": [
      "state matrix [[2. 2. 0. 2. 1.]\n",
      " [1. 1. 1. 1. 1.]]\n"
     ]
    }
   ],
   "source": [
    "# simulate y : state matrix\n",
    "# t = 0 : first state : random between state 1,2,3\n",
    "# y[i,t] : stock i, and t time\n",
    "# ex: y[0,1] : state at stock 0 when time is in index 1.  \n",
    "\n",
    "y = np.zeros((num_stocks, N))\n",
    "\n",
    "for i in range(num_stocks):\n",
    "    for t in range(N):\n",
    "        if t == 0:\n",
    "            y[i,t] = np.random.randint(0,3)\n",
    "        else: \n",
    "            prev_state = int(y[i, t-1])\n",
    "            y[i,t] = np.random.choice( np.arange(0,3), p=[P[i][prev_state][0], \\\n",
    "                                                          P[i][prev_state][1], \\\n",
    "                                                          P[i][prev_state][2]] )\n",
    "        \n",
    "print(\"state matrix\", y)"
   ]
  },
  {
   "cell_type": "code",
   "execution_count": null,
   "metadata": {},
   "outputs": [],
   "source": []
  }
 ],
 "metadata": {
  "interpreter": {
   "hash": "7286b942ec06b9f40679a4110e501f24321020fb01cb84267280ef2b87ea5fc1"
  },
  "kernelspec": {
   "display_name": "Python 3.8.8 ('base')",
   "language": "python",
   "name": "python3"
  },
  "language_info": {
   "codemirror_mode": {
    "name": "ipython",
    "version": 3
   },
   "file_extension": ".py",
   "mimetype": "text/x-python",
   "name": "python",
   "nbconvert_exporter": "python",
   "pygments_lexer": "ipython3",
   "version": "3.8.8"
  },
  "orig_nbformat": 4
 },
 "nbformat": 4,
 "nbformat_minor": 2
}
