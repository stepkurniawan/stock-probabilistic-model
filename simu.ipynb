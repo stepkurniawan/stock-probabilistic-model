{
 "cells": [
  {
   "cell_type": "code",
   "execution_count": 15,
   "metadata": {},
   "outputs": [
    {
     "name": "stdout",
     "output_type": "stream",
     "text": [
      "drift matrix [[-0.13702     1.35669224  1.9974174 ]\n",
      " [ 1.93803498  3.04823064  3.81068319]]\n"
     ]
    }
   ],
   "source": [
    "# -*- coding: utf-8 -*-\n",
    "\"\"\"\n",
    "Created on Thu Jun  2 12:56:02 2022\n",
    "\n",
    "@author: steph\n",
    "\n",
    "Our simulation consists of 2 stocks \n",
    "we simulate their drift, volatility, and transition matrix\n",
    "and plug them in max likelihood\n",
    "before testing using MCMCs\n",
    "\"\"\"\n",
    "\n",
    "import numpy as np\n",
    "import pandas as pd\n",
    "\n",
    "##############################################################################\n",
    "### VARIABLES ###\n",
    "# drift = normal distribution(mean, sigma)\n",
    "# dim(drift) = [stock] [state] \n",
    "# list of mean of stocks : [stock1, stock2]\n",
    "mean_stocks = [0,0]\n",
    "# list of sigma of stocks : [stock1, stock2]\n",
    "sigma_stocks = []\n",
    "sigma_states_elements = [0.5, 0.2, 0.5]\n",
    "\n",
    "# randomly generated 2 stocks\n",
    "num_stocks = 2\n",
    "\n",
    "# we have 3 states: \n",
    "# state 0: crisis, state 1: stable, state 2: bubble\n",
    "num_state = 3\n",
    "\n",
    "# how many time (index of time)\n",
    "N = 50\n",
    "\n",
    "#fix the random seed\n",
    "# np.random.seed(0)\n",
    "#############################################################################\n",
    "# b : drift for each stocks, for each state\n",
    "# ex: b[0,1] is drift for stock 0 and state 1\n",
    "b = np.random.randn(num_stocks, num_state)\n",
    "\n",
    "# b0 < b1 < b2\n",
    "for j in range(num_stocks):\n",
    "    for i in range(num_state):\n",
    "        if i == 0:\n",
    "            b[j,i] = np.random.randn(1)\n",
    "        else: \n",
    "            # make sure b of the next state is larger than the one before\n",
    "            # b0 (crisis period) < b1 (stable) < b2 (bubble periode)\n",
    "            b[j,i] = np.random.normal(b[j,i-1] +1, 0.5,1) \n",
    "\n",
    "\n",
    "print(\"drift matrix\",b)"
   ]
  },
  {
   "cell_type": "code",
   "execution_count": 16,
   "metadata": {},
   "outputs": [
    {
     "data": {
      "text/plain": [
       "[array([[1. , 0.5],\n",
       "        [0.5, 1. ]], dtype=float32),\n",
       " array([[1. , 0.2],\n",
       "        [0.2, 1. ]], dtype=float32),\n",
       " array([[1. , 0.5],\n",
       "        [0.5, 1. ]], dtype=float32)]"
      ]
     },
     "execution_count": 16,
     "metadata": {},
     "output_type": "execute_result"
    }
   ],
   "source": [
    "# volatility\n",
    "sigma_stocks = [\n",
    "    np.full((num_stocks, num_stocks), sigma_states_elements[x], dtype=np.float32)\n",
    "    for x in range(num_state)\n",
    "]\n",
    "for x in sigma_stocks:\n",
    "    np.fill_diagonal(x, 1)\n",
    "\n",
    "sigma_stocks"
   ]
  },
  {
   "cell_type": "code",
   "execution_count": 17,
   "metadata": {},
   "outputs": [
    {
     "data": {
      "text/plain": [
       "([[0.3, 0.4, 0.3], [0.1, 0.9, 0.0], [0.4, 0.3, 0.3]],\n",
       " [[0.2, 0.6, 0.2], [0.01, 0.9, 0.09], [0.4, 0.3, 0.3]])"
      ]
     },
     "execution_count": 17,
     "metadata": {},
     "output_type": "execute_result"
    }
   ],
   "source": [
    "# create 3 matrix of dxd matrix\n",
    "# for state 1 & 3 -> similar covariance matrix\n",
    "\n",
    "# transition matrixs \n",
    "# P [stock][from state][to state]\n",
    "P = [[0.3, 0.4, 0.3], [0.1, 0.9, 0.0], [0.4, 0.3, 0.3]], \\\n",
    "    [[0.2, 0.6, 0.2], [0.01, 0.9, 0.09], [0.4, 0.3, 0.3]]\n",
    "\n",
    "P"
   ]
  },
  {
   "cell_type": "code",
   "execution_count": 18,
   "metadata": {},
   "outputs": [
    {
     "name": "stdout",
     "output_type": "stream",
     "text": [
      "state matrix [[0 2 1 1 1 1 1 1 1 1 1 0 1 1 0 2 1 1 1 1 1 1 1 1 1 1 1 1 1 1 1 1 1 1 0 2\n",
      "  1 1 1 1 1 1 1 1 0 2 0 0 0 2]\n",
      " [2 2 0 0 1 1 1 2 2 0 1 1 1 1 1 1 1 1 1 1 1 1 1 1 1 2 1 1 1 1 1 1 1 1 1 1\n",
      "  1 1 1 1 1 1 1 1 1 1 1 1 1 1]]\n"
     ]
    }
   ],
   "source": [
    "# simulate y : state matrix\n",
    "# t = 0 : first state : random between state 1,2,3\n",
    "# y[i,t] : stock i, and t time\n",
    "# ex: y[0,1] : state at stock 0 when time is in index 1.  \n",
    "\n",
    "y = np.zeros((num_stocks, N))\n",
    "\n",
    "for i in range(num_stocks):\n",
    "    for t in range(N):\n",
    "        if t == 0:\n",
    "            y[i,t] = np.random.randint(0,3)\n",
    "        else: \n",
    "            prev_state = int(y[i, t-1])\n",
    "            y[i,t] = np.random.choice( np.arange(0,3), p=[P[i][prev_state][0], \\\n",
    "                                                          P[i][prev_state][1], \\\n",
    "                                                          P[i][prev_state][2]] )\n",
    "y = y.astype('int') # state is always integer\n",
    "print(\"state matrix\", y)"
   ]
  },
  {
   "cell_type": "code",
   "execution_count": 30,
   "metadata": {},
   "outputs": [
    {
     "data": {
      "text/plain": [
       "array([[ 0.0275097 ,  2.23201639, -0.1049797 ,  1.36741498, -1.65534404,\n",
       "         0.15364446, -1.58447356,  0.84445431, -1.21286782,  0.28376955,\n",
       "        -0.28219588, -1.15820319, -1.61935998, -0.51104046,  1.74062945,\n",
       "        -0.29348505,  0.91722154, -0.05704287,  0.87672677, -1.82691138,\n",
       "        -0.40318831,  0.94940552, -0.16325495, -0.08645528, -0.43046191,\n",
       "         1.14937938,  0.29751435,  0.04402228,  0.64305455,  0.58822493,\n",
       "         0.21258705,  1.5470315 , -0.06028753,  0.27808105, -0.64295255,\n",
       "         0.15011523,  1.58776152, -0.6432576 , -1.13359283,  0.99675964,\n",
       "        -0.14876615,  0.0960042 , -0.0451133 ,  0.07912172,  0.85053068,\n",
       "        -0.83912419, -1.01177408,  0.08496814, -1.60643969, -1.37305354],\n",
       "       [ 1.86668315,  0.75746833, -0.01005647,  1.23800694, -1.04059923,\n",
       "        -0.31560312,  0.62345361,  0.89067168,  0.51291685, -2.54123881,\n",
       "        -0.96808212,  0.47706809, -0.35595149,  2.54023162,  0.9265583 ,\n",
       "         0.55808188, -1.11694955, -0.03529674,  0.24120396,  1.12778363,\n",
       "         0.8811311 ,  1.03298919, -0.92391202,  1.4121517 , -1.38043075,\n",
       "        -0.53591456,  0.43077113, -0.14989159, -1.00603686, -0.82154983,\n",
       "        -1.54825432,  0.53197464,  1.26056885, -0.1003935 , -0.40034882,\n",
       "        -1.47232293,  0.91320192,  2.21130433, -1.7974558 , -1.06343294,\n",
       "        -0.67959304, -0.56431791,  0.22734595,  1.61424955,  1.00859729,\n",
       "         0.52759738, -0.7239287 , -1.11962823, -0.79677531,  1.5480668 ]])"
      ]
     },
     "execution_count": 30,
     "metadata": {},
     "output_type": "execute_result"
    }
   ],
   "source": [
    "# DELTA of BROWNIAN MOTION is a normal distribution of mean 0 and std 1\n",
    "# 1 stock have 1 brownian motion\n",
    "# the length of 1 brownian motion is N\n",
    "# brownian motion have dim(num_stock, N)\n",
    "\n",
    "# brownian_motion_delta = np.zeros((num_stocks, N))\n",
    "\n",
    "# for j in range(num_stocks): \n",
    "#     brownian_motion_delta[j] = np.random.standard_normal(N)\n",
    "\n",
    "brownian_motion_delta = np.array([np.random.standard_normal(N) for _ in range(num_stocks)])\n",
    "brownian_motion_delta"
   ]
  },
  {
   "cell_type": "code",
   "execution_count": 33,
   "metadata": {},
   "outputs": [
    {
     "name": "stdout",
     "output_type": "stream",
     "text": [
      "return matrix [[-9.57554518e-02  5.24968653e+00  6.48040314e+00  9.47799336e+00\n",
      "   8.84827275e+00  1.03893383e+01  9.84466231e+00  1.22146997e+01\n",
      "   1.21159506e+01  1.38131663e+01  1.48312235e+01  1.29568987e+01\n",
      "   1.23703590e+01  1.31138026e+01  1.55877268e+01  1.71449166e+01\n",
      "   1.96022747e+01  2.08905155e+01  2.32992799e+01  2.24636785e+01\n",
      "   2.33365448e+01  2.58325236e+01  2.69933099e+01  2.82462558e+01\n",
      "   2.90863938e+01  3.18223413e+01  3.35360508e+01  3.49455697e+01\n",
      "   3.70739274e+01  3.91364896e+01  4.07482863e+01  4.39614163e+01\n",
      "   4.52457635e+01  4.69361530e+01  4.58347042e+01  4.80572944e+01\n",
      "   5.13193005e+01  5.19040836e+01  5.19004645e+01  5.44532683e+01\n",
      "   5.56314412e+01  5.71033385e+01  5.84058947e+01  5.98575330e+01\n",
      "   6.09963091e+01  6.17350402e+01  6.00803590e+01  6.00707912e+01\n",
      "   5.75241117e+01  5.74619488e+01]\n",
      " [ 6.61070791e+00  1.15575936e+01  1.34805439e+01  1.72755893e+01\n",
      "   1.90751008e+01  2.17446077e+01  2.55409827e+01  3.06876734e+01\n",
      "   3.52677318e+01  3.33939086e+01  3.52804407e+01  3.89011531e+01\n",
      "   4.15222419e+01  4.76187505e+01  5.17788511e+01  5.54967800e+01\n",
      "   5.72046711e+01  6.02105457e+01  6.35482211e+01  6.79497921e+01\n",
      "   7.20553800e+01  7.63431977e+01  7.82827339e+01  8.30255466e+01\n",
      "   8.44172603e+01  8.74240717e+01  9.09892277e+01  9.38575884e+01\n",
      "   9.56985748e+01  9.77609457e+01  9.89512711e+01  1.02637871e+02\n",
      "   1.07198785e+02  1.10126543e+02  1.12694355e+02  1.13975798e+02\n",
      "   1.18119871e+02  1.23821667e+02  1.24712951e+02  1.26485062e+02\n",
      "   1.28717781e+02  1.31088830e+02  1.34409876e+02  1.39395206e+02\n",
      "   1.43653753e+02  1.47335101e+02  1.49514617e+02  1.51219294e+02\n",
      "   1.53311394e+02  1.58217305e+02]]\n"
     ]
    }
   ],
   "source": [
    "# r : rate of Return of stock price from timme 0 to time t\n",
    "r = np.zeros((num_stocks, N))\n",
    "\n",
    "for i in range(num_stocks):\n",
    "    for n in range(1,N+1):\n",
    "        sum_b = 0\n",
    "        sum_sigma = 0\n",
    "        for t in range(n):\n",
    "            state_now = y[i,t]\n",
    "            sum_b = sum_b + b[i , state_now]\n",
    "            # Toby: what's the difference of d and i?\n",
    "            for d in range(num_stocks):\n",
    "                sum_sigma = sum_sigma + (sigma_stocks[state_now][i][d] * brownian_motion_delta[i, t])\n",
    "            r[i,t] = sum_b + sum_sigma\n",
    "\n",
    "print(\"return matrix\", r)\n"
   ]
  },
  {
   "cell_type": "code",
   "execution_count": 14,
   "metadata": {},
   "outputs": [
    {
     "name": "stdout",
     "output_type": "stream",
     "text": [
      "price matrix [[8.70000000e+01 5.04555187e+02 2.93940137e+03 2.55937538e+04\n",
      "  3.29124938e+05 4.89883235e+06 9.31164896e+07 1.99954848e+09\n",
      "  4.80570951e+10 1.31448737e+12 3.94619187e+13 1.23927400e+15\n",
      "  4.13511355e+16 1.46786279e+18 5.68763136e+19 2.44482754e+21\n",
      "  1.11313671e+23 5.45636511e+24 2.79702783e+26 1.49115260e+28\n",
      "  8.37641010e+29 4.83200818e+31 2.85296118e+33 1.70492290e+35\n",
      "  1.07163283e+37 7.13392238e+38 5.02082143e+40 3.72855338e+42\n",
      "  2.83876696e+44 2.26880344e+46 1.87132993e+48 1.60438188e+50\n",
      "  1.38127807e+52 1.23355446e+54 1.12686278e+56 1.05547453e+58\n",
      "  1.00004302e+60 9.75130608e+61 9.63563494e+63 9.77357221e+65\n",
      "  1.00493974e+68 1.07713977e+70 1.18422637e+72 1.33490402e+74\n",
      "  1.54283574e+76 1.77590876e+78 2.06642707e+80 2.46512607e+82\n",
      "  3.00540609e+84 3.76787321e+86]\n",
      " [5.80000000e+01 2.34858240e+02 1.50900648e+03 1.31653347e+04\n",
      "  1.59588995e+05 1.99237999e+06 2.91051582e+07 5.13023704e+08\n",
      "  1.03482920e+10 2.26399035e+11 5.46246295e+12 1.58313722e+14\n",
      "  4.96481311e+15 1.64716154e+17 6.13331795e+18 2.39775351e+20\n",
      "  9.42783794e+21 3.92110298e+23 1.69438074e+25 7.72056745e+26\n",
      "  3.60463919e+28 1.75519496e+30 8.92078370e+31 4.95868511e+33\n",
      "  2.98520162e+35 1.78391317e+37 1.12603158e+39 7.53269565e+40\n",
      "  5.23468854e+42 3.81698577e+44 2.73991056e+46 2.02203696e+48\n",
      "  1.51709915e+50 1.15178814e+52 9.22802919e+53 7.66775152e+55\n",
      "  6.73337136e+57 5.86816876e+59 5.20538395e+61 4.65728628e+63\n",
      "  4.39998910e+65 4.24682231e+67 4.18918445e+69 4.16052995e+71\n",
      "  4.20123260e+73 4.38973359e+75 4.67430705e+77 5.05311852e+79\n",
      "  5.54573339e+81 6.28361760e+83]]\n"
     ]
    }
   ],
   "source": [
    "# Price matrix S\n",
    "# dimension: number_of_stock x N times\n",
    "# ex: S[0,1] : stock 0 , time 1\n",
    "S = np.zeros((num_stocks, N))\n",
    "for i in range(num_stocks):\n",
    "    for n in range(N):\n",
    "        if n == 0:\n",
    "            S[i,n] = np.random.randint(50,100)\n",
    "        else:\n",
    "            S[i,n] = S[i, n-1]*r[i,n]\n",
    "print(\"price matrix\", S)"
   ]
  },
  {
   "cell_type": "code",
   "execution_count": null,
   "metadata": {},
   "outputs": [],
   "source": []
  }
 ],
 "metadata": {
  "interpreter": {
   "hash": "b81aaede8d3d25846dbb6a5098912c5f7929bc506368ab737df9bda4164e6be2"
  },
  "kernelspec": {
   "display_name": "Python 3.9.7 ('base')",
   "language": "python",
   "name": "python3"
  },
  "language_info": {
   "codemirror_mode": {
    "name": "ipython",
    "version": 3
   },
   "file_extension": ".py",
   "mimetype": "text/x-python",
   "name": "python",
   "nbconvert_exporter": "python",
   "pygments_lexer": "ipython3",
   "version": "3.9.7"
  },
  "orig_nbformat": 4
 },
 "nbformat": 4,
 "nbformat_minor": 2
}
