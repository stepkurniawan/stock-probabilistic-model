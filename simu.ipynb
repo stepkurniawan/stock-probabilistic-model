{
 "cells": [
  {
   "cell_type": "code",
   "execution_count": 1,
   "metadata": {},
   "outputs": [
    {
     "name": "stdout",
     "output_type": "stream",
     "text": [
      "drift matrix [[2.38344536 2.70944148 3.92138499]\n",
      " [0.99470193 2.15879448 3.57123947]]\n"
     ]
    }
   ],
   "source": [
    "# -*- coding: utf-8 -*-\n",
    "\"\"\"\n",
    "Created on Thu Jun  2 12:56:02 2022\n",
    "\n",
    "@author: steph\n",
    "\n",
    "Our simulation consists of 2 stocks \n",
    "we simulate their drift, volatility, and transition matrix\n",
    "and plug them in max likelihood\n",
    "before testing using MCMCs\n",
    "\"\"\"\n",
    "\n",
    "import numpy as np\n",
    "import pandas as pd\n",
    "\n",
    "##############################################################################\n",
    "### VARIABLES ###\n",
    "# drift = normal distribution(mean, sigma)\n",
    "# dim(drift) = [stock] [state] \n",
    "# list of mean of stocks : [stock1, stock2]\n",
    "mean_stocks = [0,0]\n",
    "# list of sigma of stocks : [stock1, stock2]\n",
    "sigma_stocks = []\n",
    "sigma_states_elements = [0.5, 0.2, 0.5]\n",
    "\n",
    "# randomly generated 2 stocks\n",
    "num_stocks = 2\n",
    "\n",
    "# we have 3 states: \n",
    "# state 0: crisis, state 1: stable, state 2: bubble\n",
    "num_state = 3\n",
    "\n",
    "# how many time (index of time)\n",
    "N = 50\n",
    "\n",
    "#fix the random seed\n",
    "# np.random.seed(0)\n",
    "#############################################################################\n",
    "# b : drift for each stocks, for each state\n",
    "# ex: b[0,1] is drift for stock 0 and state 1\n",
    "b = np.random.randn(num_stocks, num_state)\n",
    "\n",
    "# b0 < b1 < b2\n",
    "for j in range(num_stocks):\n",
    "    for i in range(num_state):\n",
    "        if i == 0:\n",
    "            b[j,i] = np.random.randn(1)\n",
    "        else: \n",
    "            # make sure b of the next state is larger than the one before\n",
    "            # b0 (crisis period) < b1 (stable) < b2 (bubble periode)\n",
    "            b[j,i] = np.random.normal(b[j,i-1] +1, 0.5,1) \n",
    "\n",
    "\n",
    "print(\"drift matrix\",b)"
   ]
  },
  {
   "cell_type": "code",
   "execution_count": 4,
   "metadata": {},
   "outputs": [
    {
     "data": {
      "text/plain": [
       "[array([[1. , 0.5],\n",
       "        [0.5, 1. ]], dtype=float32),\n",
       " array([[1. , 0.2],\n",
       "        [0.2, 1. ]], dtype=float32),\n",
       " array([[1. , 0.5],\n",
       "        [0.5, 1. ]], dtype=float32)]"
      ]
     },
     "execution_count": 4,
     "metadata": {},
     "output_type": "execute_result"
    }
   ],
   "source": [
    "# volatility\n",
    "sigma_stocks = [\n",
    "    np.full((num_stocks, num_stocks), sigma_states_elements[x], dtype=np.float32)\n",
    "    for x in range(num_state)\n",
    "]\n",
    "for x in sigma_stocks:\n",
    "    np.fill_diagonal(x, 1)\n",
    "\n",
    "sigma_stocks"
   ]
  },
  {
   "cell_type": "code",
   "execution_count": 6,
   "metadata": {},
   "outputs": [
    {
     "data": {
      "text/plain": [
       "([[0.3, 0.4, 0.3], [0.1, 0.9, 0.0], [0.4, 0.3, 0.3]],\n",
       " [[0.2, 0.6, 0.2], [0.01, 0.9, 0.09], [0.4, 0.3, 0.3]])"
      ]
     },
     "execution_count": 6,
     "metadata": {},
     "output_type": "execute_result"
    }
   ],
   "source": [
    "# create 3 matrix of dxd matrix\n",
    "# for state 1 & 3 -> similar covariance matrix\n",
    "\n",
    "# transition matrixs \n",
    "# P [stock][from state][to state]\n",
    "P = [[0.3, 0.4, 0.3], [0.1, 0.9, 0.0], [0.4, 0.3, 0.3]], \\\n",
    "    [[0.2, 0.6, 0.2], [0.01, 0.9, 0.09], [0.4, 0.3, 0.3]]\n",
    "\n",
    "P"
   ]
  },
  {
   "cell_type": "code",
   "execution_count": 9,
   "metadata": {},
   "outputs": [
    {
     "name": "stdout",
     "output_type": "stream",
     "text": [
      "state matrix [[2 1 1 1 1 1 1 1 1 1 1 1 1 1 1 1 1 1 1 1 1 1 1 0 2 2 2 1 1 1 1 1 1 1 0 0\n",
      "  1 0 1 1 1 1 1 1 1 1 1 1 1 1]\n",
      " [2 0 1 1 2 1 1 1 1 1 1 1 1 1 1 1 1 1 1 1 1 1 1 2 1 1 1 1 1 1 1 1 1 1 2 1\n",
      "  2 0 1 1 1 1 1 1 1 1 1 0 0 1]]\n"
     ]
    }
   ],
   "source": [
    "# simulate y : state matrix\n",
    "# t = 0 : first state : random between state 1,2,3\n",
    "# y[i,t] : stock i, and t time\n",
    "# ex: y[0,1] : state at stock 0 when time is in index 1.  \n",
    "\n",
    "y = np.zeros((num_stocks, N))\n",
    "\n",
    "for i in range(num_stocks):\n",
    "    for t in range(N):\n",
    "        if t == 0:\n",
    "            y[i,t] = np.random.randint(0,3)\n",
    "        else: \n",
    "            prev_state = int(y[i, t-1])\n",
    "            y[i,t] = np.random.choice( np.arange(0,3), p=[P[i][prev_state][0], \\\n",
    "                                                          P[i][prev_state][1], \\\n",
    "                                                          P[i][prev_state][2]] )\n",
    "y = y.astype('int') # state is always integer\n",
    "print(\"state matrix\", y)"
   ]
  },
  {
   "cell_type": "code",
   "execution_count": 12,
   "metadata": {},
   "outputs": [
    {
     "data": {
      "text/plain": [
       "array([[-0.36657129, -0.23457052, -2.2359985 ,  0.14330138,  1.20250644,\n",
       "        -0.57050534,  1.1783647 , -0.20309353, -0.12424334,  0.5076694 ,\n",
       "        -0.03441084, -1.10492211, -0.62209761, -0.48262235,  0.45061878,\n",
       "         1.27319985, -0.1367933 ,  0.64850603, -0.38801925, -0.54928661,\n",
       "         0.12715166, -0.99799794, -1.12698189, -1.11110072, -0.55062818,\n",
       "        -0.13733877, -0.07495608,  0.97736925, -0.69615047,  0.89735194,\n",
       "        -0.12555587,  0.45373972, -1.9584951 ,  0.41813168, -0.22524453,\n",
       "        -0.04630085, -1.35509915,  0.2514871 , -1.17043295, -0.07641419,\n",
       "        -1.09901774,  1.37743289,  0.03983347,  0.06043545,  0.11947394,\n",
       "        -2.64931412, -1.21448495,  0.1881905 , -0.07219409,  0.61956638],\n",
       "       [-0.46373344,  0.1192925 ,  0.18092133,  0.11710875, -0.11589008,\n",
       "        -1.49688262, -0.02916886,  0.71627083,  0.32152218, -0.37671539,\n",
       "         0.07573479,  2.24644151,  0.18307535, -0.28557097,  1.58348095,\n",
       "        -0.25047401, -1.6110309 ,  0.09369523, -0.44803842,  0.1625696 ,\n",
       "        -0.86310546, -0.12909425, -0.02202612,  0.79299126,  2.04743725,\n",
       "        -2.16810104,  1.00340885,  1.34643785,  0.36512491,  1.05454886,\n",
       "        -2.74491491, -0.11788703, -0.77492684, -1.05552418,  0.41832618,\n",
       "         0.67835318,  0.76729645, -1.10555327, -0.50325015, -1.16137969,\n",
       "         2.37168942, -0.09604227, -0.02910165, -1.23800504, -0.41373226,\n",
       "         1.12475247, -0.13574326,  0.41780934,  0.43327156,  1.16492971]])"
      ]
     },
     "execution_count": 12,
     "metadata": {},
     "output_type": "execute_result"
    }
   ],
   "source": [
    "# DELTA of BROWNIAN MOTION is a normal distribution of mean 0 and std 1\n",
    "# 1 stock have 1 brownian motion\n",
    "# the length of 1 brownian motion is N\n",
    "# brownian motion have dim(num_stock, N)\n",
    "\n",
    "brownian_motion_delta = np.zeros((num_stocks, N))\n",
    "for j in range(num_stocks): \n",
    "    brownian_motion_delta[j] = np.random.standard_normal(N)\n",
    "\n",
    "brownian_motion_delta"
   ]
  },
  {
   "cell_type": "code",
   "execution_count": 13,
   "metadata": {},
   "outputs": [
    {
     "name": "stdout",
     "output_type": "stream",
     "text": [
      "return matrix [[  3.37152805   5.79948491   5.82572818   8.70713132  12.85958053\n",
      "   14.8844156   19.00789472  21.47362396  24.03397343  27.35261819\n",
      "   30.02076666  31.40430161  33.36722595  35.49752062  38.74770463\n",
      "   42.98498594  45.53027546  49.01792418  51.26174256  53.3120401\n",
      "   56.17406358  57.68590753  59.04297074  59.75976502  62.85520774\n",
      "   66.57058458  70.37953546  74.26182004  76.13588096  79.92214477\n",
      "   82.4809192   85.73484834  86.09409569  89.30529519  91.35087376\n",
      "   93.66486783  94.74819033  97.50886633  98.81378826 101.43153271\n",
      "  102.8221529  107.18451385 109.9417555  112.72371952 115.57652973\n",
      "  115.10679426 116.35885379 119.29412388 121.91693245 125.36985358]\n",
      " [  2.87563931   4.04928      6.42518008   8.72450506  12.12190942\n",
      "   12.48444475  14.6082366   17.62655607  20.17117717  21.87791319\n",
      "   24.12758942  28.98211373  31.36059863  33.17670794  37.23567957\n",
      "   39.09390524  39.31946263  41.59069139  43.21183977  45.56571777\n",
      "   46.68878571  48.69266709  50.82503023  55.58575659  60.20147577\n",
      "   59.758549    63.12143411  66.89595401  69.49289839  72.91715151\n",
      "   71.78204809  73.79937813  75.0282604   75.92042587  80.11915462\n",
      "   83.09197292  87.81415707  87.15052909  88.70542339  89.47056224\n",
      "   94.47538404  96.51892779  98.64280029  99.31598873 100.97830449\n",
      "  104.48680194 106.48270451 108.10412044 109.7487297  113.30543984]]\n"
     ]
    }
   ],
   "source": [
    "# r : rate of Return of stock price from timme 0 to time t\n",
    "r = np.zeros((num_stocks, N))\n",
    "for i in range(num_stocks):\n",
    "    for n in range(1,N+1):\n",
    "        sum_b = 0\n",
    "        sum_sigma = 0\n",
    "        for t in range(n):\n",
    "            state_now = y[i,t]\n",
    "            sum_b = sum_b + b[i , state_now]\n",
    "            for d in range(num_stocks):\n",
    "                sum_sigma = sum_sigma + (sigma_stocks[state_now][i][d] * brownian_motion_delta[i, t])\n",
    "            r[i,t] = sum_b + sum_sigma\n",
    "print(\"return matrix\", r)\n"
   ]
  },
  {
   "cell_type": "code",
   "execution_count": 14,
   "metadata": {},
   "outputs": [
    {
     "name": "stdout",
     "output_type": "stream",
     "text": [
      "price matrix [[8.70000000e+01 5.04555187e+02 2.93940137e+03 2.55937538e+04\n",
      "  3.29124938e+05 4.89883235e+06 9.31164896e+07 1.99954848e+09\n",
      "  4.80570951e+10 1.31448737e+12 3.94619187e+13 1.23927400e+15\n",
      "  4.13511355e+16 1.46786279e+18 5.68763136e+19 2.44482754e+21\n",
      "  1.11313671e+23 5.45636511e+24 2.79702783e+26 1.49115260e+28\n",
      "  8.37641010e+29 4.83200818e+31 2.85296118e+33 1.70492290e+35\n",
      "  1.07163283e+37 7.13392238e+38 5.02082143e+40 3.72855338e+42\n",
      "  2.83876696e+44 2.26880344e+46 1.87132993e+48 1.60438188e+50\n",
      "  1.38127807e+52 1.23355446e+54 1.12686278e+56 1.05547453e+58\n",
      "  1.00004302e+60 9.75130608e+61 9.63563494e+63 9.77357221e+65\n",
      "  1.00493974e+68 1.07713977e+70 1.18422637e+72 1.33490402e+74\n",
      "  1.54283574e+76 1.77590876e+78 2.06642707e+80 2.46512607e+82\n",
      "  3.00540609e+84 3.76787321e+86]\n",
      " [5.80000000e+01 2.34858240e+02 1.50900648e+03 1.31653347e+04\n",
      "  1.59588995e+05 1.99237999e+06 2.91051582e+07 5.13023704e+08\n",
      "  1.03482920e+10 2.26399035e+11 5.46246295e+12 1.58313722e+14\n",
      "  4.96481311e+15 1.64716154e+17 6.13331795e+18 2.39775351e+20\n",
      "  9.42783794e+21 3.92110298e+23 1.69438074e+25 7.72056745e+26\n",
      "  3.60463919e+28 1.75519496e+30 8.92078370e+31 4.95868511e+33\n",
      "  2.98520162e+35 1.78391317e+37 1.12603158e+39 7.53269565e+40\n",
      "  5.23468854e+42 3.81698577e+44 2.73991056e+46 2.02203696e+48\n",
      "  1.51709915e+50 1.15178814e+52 9.22802919e+53 7.66775152e+55\n",
      "  6.73337136e+57 5.86816876e+59 5.20538395e+61 4.65728628e+63\n",
      "  4.39998910e+65 4.24682231e+67 4.18918445e+69 4.16052995e+71\n",
      "  4.20123260e+73 4.38973359e+75 4.67430705e+77 5.05311852e+79\n",
      "  5.54573339e+81 6.28361760e+83]]\n"
     ]
    }
   ],
   "source": [
    "# Price matrix S\n",
    "# dimension: number_of_stock x N times\n",
    "# ex: S[0,1] : stock 0 , time 1\n",
    "S = np.zeros((num_stocks, N))\n",
    "for i in range(num_stocks):\n",
    "    for n in range(N):\n",
    "        if n == 0:\n",
    "            S[i,n] = np.random.randint(50,100)\n",
    "        else:\n",
    "            S[i,n] = S[i, n-1]*r[i,n]\n",
    "print(\"price matrix\", S)"
   ]
  },
  {
   "cell_type": "code",
   "execution_count": null,
   "metadata": {},
   "outputs": [],
   "source": []
  }
 ],
 "metadata": {
  "interpreter": {
   "hash": "b81aaede8d3d25846dbb6a5098912c5f7929bc506368ab737df9bda4164e6be2"
  },
  "kernelspec": {
   "display_name": "Python 3.9.7 ('base')",
   "language": "python",
   "name": "python3"
  },
  "language_info": {
   "codemirror_mode": {
    "name": "ipython",
    "version": 3
   },
   "file_extension": ".py",
   "mimetype": "text/x-python",
   "name": "python",
   "nbconvert_exporter": "python",
   "pygments_lexer": "ipython3",
   "version": "3.9.7"
  },
  "orig_nbformat": 4
 },
 "nbformat": 4,
 "nbformat_minor": 2
}
