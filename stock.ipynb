{
 "cells": [
  {
   "cell_type": "code",
   "execution_count": 2,
   "metadata": {},
   "outputs": [],
   "source": [
    "\"\"\"\n",
    "Created on Mon May  2 21:24:58 2022\n",
    "\n",
    "@author: steph\n",
    "\"\"\"\n",
    "\n",
    "import numpy as np\n",
    "import pandas as pd\n",
    "import yfinance as yf\n",
    "from yahoofinancials import YahooFinancials"
   ]
  },
  {
   "cell_type": "markdown",
   "metadata": {},
   "source": [
    "## Variables"
   ]
  },
  {
   "cell_type": "code",
   "execution_count": 3,
   "metadata": {},
   "outputs": [],
   "source": [
    "DAX = '^GDAXI'\n",
    "CAC = '^FCHI'\n",
    "FTSE100 = '^FTSE'\n",
    "NIKKEI = '^N225'\n",
    "SNP500 = '^GSPC'\n",
    "NASDAQ = '^IXIC'\n",
    "DOW = '^DJI'\n",
    "\n",
    "stock_indices = [DAX, CAC, FTSE100, NIKKEI, SNP500, NASDAQ, DOW]"
   ]
  },
  {
   "cell_type": "markdown",
   "metadata": {},
   "source": [
    "## Test stock AAPL"
   ]
  },
  {
   "cell_type": "code",
   "execution_count": 4,
   "metadata": {},
   "outputs": [
    {
     "data": {
      "text/html": [
       "<div>\n",
       "<style scoped>\n",
       "    .dataframe tbody tr th:only-of-type {\n",
       "        vertical-align: middle;\n",
       "    }\n",
       "\n",
       "    .dataframe tbody tr th {\n",
       "        vertical-align: top;\n",
       "    }\n",
       "\n",
       "    .dataframe thead th {\n",
       "        text-align: right;\n",
       "    }\n",
       "</style>\n",
       "<table border=\"1\" class=\"dataframe\">\n",
       "  <thead>\n",
       "    <tr style=\"text-align: right;\">\n",
       "      <th></th>\n",
       "      <th>Open</th>\n",
       "      <th>High</th>\n",
       "      <th>Low</th>\n",
       "      <th>Close</th>\n",
       "      <th>Adj Close</th>\n",
       "      <th>Volume</th>\n",
       "    </tr>\n",
       "    <tr>\n",
       "      <th>Date</th>\n",
       "      <th></th>\n",
       "      <th></th>\n",
       "      <th></th>\n",
       "      <th></th>\n",
       "      <th></th>\n",
       "      <th></th>\n",
       "    </tr>\n",
       "  </thead>\n",
       "  <tbody>\n",
       "    <tr>\n",
       "      <th>1990-12-31</th>\n",
       "      <td>0.383929</td>\n",
       "      <td>0.386161</td>\n",
       "      <td>0.381696</td>\n",
       "      <td>0.383929</td>\n",
       "      <td>0.310517</td>\n",
       "      <td>44273600</td>\n",
       "    </tr>\n",
       "    <tr>\n",
       "      <th>1991-01-02</th>\n",
       "      <td>0.381696</td>\n",
       "      <td>0.392857</td>\n",
       "      <td>0.375000</td>\n",
       "      <td>0.388393</td>\n",
       "      <td>0.314127</td>\n",
       "      <td>154985600</td>\n",
       "    </tr>\n",
       "    <tr>\n",
       "      <th>1991-01-03</th>\n",
       "      <td>0.388393</td>\n",
       "      <td>0.395089</td>\n",
       "      <td>0.383929</td>\n",
       "      <td>0.383929</td>\n",
       "      <td>0.310517</td>\n",
       "      <td>150180800</td>\n",
       "    </tr>\n",
       "    <tr>\n",
       "      <th>1991-01-04</th>\n",
       "      <td>0.383929</td>\n",
       "      <td>0.395089</td>\n",
       "      <td>0.383929</td>\n",
       "      <td>0.386161</td>\n",
       "      <td>0.312322</td>\n",
       "      <td>141523200</td>\n",
       "    </tr>\n",
       "    <tr>\n",
       "      <th>1991-01-07</th>\n",
       "      <td>0.383929</td>\n",
       "      <td>0.404018</td>\n",
       "      <td>0.383929</td>\n",
       "      <td>0.386161</td>\n",
       "      <td>0.312322</td>\n",
       "      <td>310800000</td>\n",
       "    </tr>\n",
       "  </tbody>\n",
       "</table>\n",
       "</div>"
      ],
      "text/plain": [
       "                Open      High       Low     Close  Adj Close     Volume\n",
       "Date                                                                    \n",
       "1990-12-31  0.383929  0.386161  0.381696  0.383929   0.310517   44273600\n",
       "1991-01-02  0.381696  0.392857  0.375000  0.388393   0.314127  154985600\n",
       "1991-01-03  0.388393  0.395089  0.383929  0.383929   0.310517  150180800\n",
       "1991-01-04  0.383929  0.395089  0.383929  0.386161   0.312322  141523200\n",
       "1991-01-07  0.383929  0.404018  0.383929  0.386161   0.312322  310800000"
      ]
     },
     "execution_count": 4,
     "metadata": {},
     "output_type": "execute_result"
    }
   ],
   "source": [
    "aapl_df = yf.download('AAPL', \n",
    "                      start='1991-01-01', \n",
    "                      end='2011-12-01', \n",
    "                      progress=False,\n",
    ")\n",
    "aapl_df.head()"
   ]
  },
  {
   "cell_type": "code",
   "execution_count": 5,
   "metadata": {},
   "outputs": [
    {
     "data": {
      "text/html": [
       "<div>\n",
       "<style scoped>\n",
       "    .dataframe tbody tr th:only-of-type {\n",
       "        vertical-align: middle;\n",
       "    }\n",
       "\n",
       "    .dataframe tbody tr th {\n",
       "        vertical-align: top;\n",
       "    }\n",
       "\n",
       "    .dataframe thead th {\n",
       "        text-align: right;\n",
       "    }\n",
       "</style>\n",
       "<table border=\"1\" class=\"dataframe\">\n",
       "  <thead>\n",
       "    <tr style=\"text-align: right;\">\n",
       "      <th></th>\n",
       "      <th>Open</th>\n",
       "      <th>High</th>\n",
       "      <th>Low</th>\n",
       "      <th>Close</th>\n",
       "      <th>Adj Close</th>\n",
       "      <th>Volume</th>\n",
       "    </tr>\n",
       "    <tr>\n",
       "      <th>Date</th>\n",
       "      <th></th>\n",
       "      <th></th>\n",
       "      <th></th>\n",
       "      <th></th>\n",
       "      <th></th>\n",
       "      <th></th>\n",
       "    </tr>\n",
       "  </thead>\n",
       "  <tbody>\n",
       "    <tr>\n",
       "      <th>1990-12-31</th>\n",
       "      <td>1359.430054</td>\n",
       "      <td>1390.079956</td>\n",
       "      <td>1359.430054</td>\n",
       "      <td>1390.079956</td>\n",
       "      <td>1390.079956</td>\n",
       "      <td>0</td>\n",
       "    </tr>\n",
       "    <tr>\n",
       "      <th>1991-01-07</th>\n",
       "      <td>1356.479980</td>\n",
       "      <td>1377.489990</td>\n",
       "      <td>1351.209961</td>\n",
       "      <td>1377.489990</td>\n",
       "      <td>1377.489990</td>\n",
       "      <td>0</td>\n",
       "    </tr>\n",
       "    <tr>\n",
       "      <th>1991-01-14</th>\n",
       "      <td>1345.260010</td>\n",
       "      <td>1404.349976</td>\n",
       "      <td>1317.170044</td>\n",
       "      <td>1401.650024</td>\n",
       "      <td>1401.650024</td>\n",
       "      <td>0</td>\n",
       "    </tr>\n",
       "    <tr>\n",
       "      <th>1991-01-21</th>\n",
       "      <td>1393.020020</td>\n",
       "      <td>1393.020020</td>\n",
       "      <td>1365.469971</td>\n",
       "      <td>1381.300049</td>\n",
       "      <td>1381.300049</td>\n",
       "      <td>0</td>\n",
       "    </tr>\n",
       "    <tr>\n",
       "      <th>1991-01-28</th>\n",
       "      <td>1378.500000</td>\n",
       "      <td>1421.160034</td>\n",
       "      <td>1378.500000</td>\n",
       "      <td>1417.520020</td>\n",
       "      <td>1417.520020</td>\n",
       "      <td>0</td>\n",
       "    </tr>\n",
       "  </tbody>\n",
       "</table>\n",
       "</div>"
      ],
      "text/plain": [
       "                   Open         High          Low        Close    Adj Close  \\\n",
       "Date                                                                          \n",
       "1990-12-31  1359.430054  1390.079956  1359.430054  1390.079956  1390.079956   \n",
       "1991-01-07  1356.479980  1377.489990  1351.209961  1377.489990  1377.489990   \n",
       "1991-01-14  1345.260010  1404.349976  1317.170044  1401.650024  1401.650024   \n",
       "1991-01-21  1393.020020  1393.020020  1365.469971  1381.300049  1381.300049   \n",
       "1991-01-28  1378.500000  1421.160034  1378.500000  1417.520020  1417.520020   \n",
       "\n",
       "            Volume  \n",
       "Date                \n",
       "1990-12-31       0  \n",
       "1991-01-07       0  \n",
       "1991-01-14       0  \n",
       "1991-01-21       0  \n",
       "1991-01-28       0  "
      ]
     },
     "execution_count": 5,
     "metadata": {},
     "output_type": "execute_result"
    }
   ],
   "source": [
    "dax_df = yf.download(DAX,\n",
    "                     start='1991-01-01',\n",
    "                     end='2011-12-25',\n",
    "                     progress=False,\n",
    "                     interval='1wk')\n",
    "dax_df.head()"
   ]
  },
  {
   "cell_type": "code",
   "execution_count": 6,
   "metadata": {},
   "outputs": [
    {
     "data": {
      "text/plain": [
       "<AxesSubplot:title={'center':'DAX Stock Price'}, xlabel='Date'>"
      ]
     },
     "execution_count": 6,
     "metadata": {},
     "output_type": "execute_result"
    },
    {
     "data": {
      "image/png": "[encoded data removed]",
      "text/plain": [
       "<Figure size 432x288 with 1 Axes>"
      ]
     },
     "metadata": {
      "needs_background": "light"
     },
     "output_type": "display_data"
    }
   ],
   "source": [
    "ticker = yf.Ticker(DAX)\n",
    "\n",
    "dax_df = ticker.history(start='1991-01-01',\n",
    "                        end='2011-12-25',\n",
    "                        progress=False,\n",
    "                        interval='1wk')\n",
    "\n",
    "dax_df['Close'].plot(title='DAX Stock Price')"
   ]
  },
  {
   "cell_type": "code",
   "execution_count": 7,
   "metadata": {},
   "outputs": [],
   "source": [
    "def stock_return(arr):\n",
    "    r = np.array(1)\n",
    "    \n",
    "    for i in range(1, len(arr['Close'])):\n",
    "        r_t = 100*np.log(arr['Close'][i] / arr['Close'][i-1])\n",
    "        # print(r_t)\n",
    "        \n",
    "    np.append(r, r_t) # TODO fix this\n",
    "    return r"
   ]
  },
  {
   "cell_type": "code",
   "execution_count": 8,
   "metadata": {},
   "outputs": [
    {
     "name": "stdout",
     "output_type": "stream",
     "text": [
      "1\n"
     ]
    }
   ],
   "source": [
    "print(stock_return(dax_df))"
   ]
  },
  {
   "cell_type": "code",
   "execution_count": null,
   "metadata": {},
   "outputs": [],
   "source": []
  }
 ],
 "metadata": {
  "interpreter": {
   "hash": "7286b942ec06b9f40679a4110e501f24321020fb01cb84267280ef2b87ea5fc1"
  },
  "kernelspec": {
   "display_name": "Python 3.8.8 ('base')",
   "language": "python",
   "name": "python3"
  },
  "language_info": {
   "codemirror_mode": {
    "name": "ipython",
    "version": 3
   },
   "file_extension": ".py",
   "mimetype": "text/x-python",
   "name": "python",
   "nbconvert_exporter": "python",
   "pygments_lexer": "ipython3",
   "version": "3.8.8"
  },
  "orig_nbformat": 4
 },
 "nbformat": 4,
 "nbformat_minor": 2
}
